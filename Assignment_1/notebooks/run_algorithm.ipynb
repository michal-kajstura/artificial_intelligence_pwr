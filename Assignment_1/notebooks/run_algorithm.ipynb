{
 "cells": [
  {
   "cell_type": "code",
   "execution_count": 13,
   "metadata": {},
   "outputs": [],
   "source": [
    "%load_ext autoreload\n",
    "%autoreload 2\n",
    "\n",
    "import sys\n",
    "sys.path.append('..')\n",
    "from src.loading import DataLoader\n",
    "from src.fitness import FitnessFunction\n",
    "from src.algorithms import GreedyAlgorithm, RandomAlgorithm\n",
    "import numpy as np\n",
    "\n",
    "    \n",
    "path = '/home/michal/studia/SI/artificial_intelligence_pwr/Assignment_1/data/berlin11_modified.tsp'\n",
    "loader = DataLoader()\n",
    "cities = loader.load_cities(path)\n",
    "\n",
    "fitness = FitnessFunction(cities)\n",
    "greedy = GreedyAlgorithm(cities)"
   ]
  },
  {
   "cell_type": "code",
   "execution_count": 36,
   "metadata": {},
   "outputs": [
    {
     "name": "stdout",
     "output_type": "stream",
     "text": [
      "Zaczynając z miasta 0: 4543.086327880018\n",
      "Zaczynając z miasta 1: 4925.851594899172\n",
      "Zaczynając z miasta 2: 5512.279530223165\n",
      "Zaczynając z miasta 3: 4691.842403675803\n",
      "Zaczynając z miasta 4: 4893.851277459362\n",
      "Zaczynając z miasta 5: 4893.909516794436\n",
      "Zaczynając z miasta 6: 4953.238279629478\n",
      "Zaczynając z miasta 7: 4718.288352748593\n",
      "Zaczynając z miasta 8: 4719.507693901182\n",
      "Zaczynając z miasta 9: 4720.627011854174\n",
      "Zaczynając z miasta 10: 4691.842403675803\n",
      "\n",
      "Najlepszy wynik:\n",
      "4543.086327880018\n",
      "4842.211308431017\n",
      "5512.279530223165\n"
     ]
    }
   ],
   "source": [
    "for i in range(11):\n",
    "    print(f'Zaczynając z miasta {i}: {fitness(greedy(i))}')\n",
    "    \n",
    "print('\\nNajlepszy wynik:')\n",
    "fs = np.array([fitness(greedy(c)) for c in range(11)])\n",
    "\n",
    "print(fs.min())\n",
    "print(fs.mean())\n",
    "print(fs.max())"
   ]
  },
  {
   "cell_type": "code",
   "execution_count": 23,
   "metadata": {},
   "outputs": [
    {
     "data": {
      "image/png": "[encoded data removed]",
      "text/plain": [
       "<Figure size 720x360 with 1 Axes>"
      ]
     },
     "metadata": {
      "needs_background": "light"
     },
     "output_type": "display_data"
    }
   ],
   "source": [
    "import matplotlib.pyplot as plt\n",
    "fitnesses = [fitness(greedy(c)) for c in range(11)]\n",
    "plt.figure(figsize=(10, 5))\n",
    "plt.title('Berlin11')\n",
    "plt.xlabel('Miasto')\n",
    "plt.ylabel('Odległość')\n",
    "plt.bar(range(1, 12), fitnesses)\n",
    "plt.savefig('city_fit.png')"
   ]
  },
  {
   "cell_type": "code",
   "execution_count": 27,
   "metadata": {},
   "outputs": [],
   "source": [
    "rand = RandomAlgorithm(cities)\n",
    "fitnesses = np.array([fitness(rand()) for _ in range(100000)])"
   ]
  },
  {
   "cell_type": "code",
   "execution_count": 31,
   "metadata": {},
   "outputs": [
    {
     "data": {
      "text/plain": [
       "9294.344857134323"
      ]
     },
     "execution_count": 31,
     "metadata": {},
     "output_type": "execute_result"
    }
   ],
   "source": [
    "fitnesses.max()"
   ]
  }
 ],
 "metadata": {
  "kernelspec": {
   "display_name": "Python 3",
   "language": "python",
   "name": "python3"
  },
  "language_info": {
   "codemirror_mode": {
    "name": "ipython",
    "version": 3
   },
   "file_extension": ".py",
   "mimetype": "text/x-python",
   "name": "python",
   "nbconvert_exporter": "python",
   "pygments_lexer": "ipython3",
   "version": "3.7.6"
  },
  "pycharm": {
   "stem_cell": {
    "cell_type": "raw",
    "metadata": {
     "collapsed": false
    },
    "source": []
   }
  }
 },
 "nbformat": 4,
 "nbformat_minor": 4
}
