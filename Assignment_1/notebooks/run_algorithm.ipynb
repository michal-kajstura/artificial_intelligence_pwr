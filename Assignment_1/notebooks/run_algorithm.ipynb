{
 "cells": [
  {
   "cell_type": "code",
   "execution_count": null,
   "metadata": {},
   "outputs": [],
   "source": [
    "import sys\n",
    "sys.path.append('..')\n",
    "from src.loading import DataLoader\n",
    "from src.fitness import FitnessFunction\n",
    "from src.algorithms import GreedyAlgorithm, RandomAlgorithm\n",
    "import numpy as np\n",
    "\n",
    "    \n",
    "path = '/home/michal/studia/SI/artificial_intelligence_pwr/Assignment_1/data/berlin11_modified.tsp'\n",
    "loader = DataLoader()\n",
    "cities = loader.load_cities(path)\n",
    "\n",
    "fitness = FitnessFunction(cities)\n",
    "greedy = GreedyAlgorithm(cities)"
   ]
  },
  {
   "cell_type": "code",
   "execution_count": null,
   "metadata": {},
   "outputs": [],
   "source": []
  }
 ],
 "metadata": {
  "kernelspec": {
   "display_name": "Python 3",
   "language": "python",
   "name": "python3"
  },
  "language_info": {
   "codemirror_mode": {
    "name": "ipython",
    "version": 3
   },
   "file_extension": ".py",
   "mimetype": "text/x-python",
   "name": "python",
   "nbconvert_exporter": "python",
   "pygments_lexer": "ipython3",
   "version": "3.7.6"
  },
  "pycharm": {
   "stem_cell": {
    "cell_type": "raw",
    "metadata": {
     "collapsed": false
    },
    "source": []
   }
  }
 },
 "nbformat": 4,
 "nbformat_minor": 4
}
